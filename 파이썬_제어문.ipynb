{
  "nbformat": 4,
  "nbformat_minor": 0,
  "metadata": {
    "colab": {
      "name": "파이썬 제어문.ipynb",
      "provenance": [],
      "collapsed_sections": [],
      "authorship_tag": "ABX9TyMt8lpEYN5EYH9BhTUwJkYL",
      "include_colab_link": true
    },
    "kernelspec": {
      "name": "python3",
      "display_name": "Python 3"
    }
  },
  "cells": [
    {
      "cell_type": "markdown",
      "metadata": {
        "id": "view-in-github",
        "colab_type": "text"
      },
      "source": [
        "<a href=\"https://colab.research.google.com/github/jeong-on/python_start/blob/main/%ED%8C%8C%EC%9D%B4%EC%8D%AC_%EC%A0%9C%EC%96%B4%EB%AC%B8.ipynb\" target=\"_parent\"><img src=\"https://colab.research.google.com/assets/colab-badge.svg\" alt=\"Open In Colab\"/></a>"
      ]
    },
    {
      "cell_type": "code",
      "metadata": {
        "colab": {
          "base_uri": "https://localhost:8080/"
        },
        "id": "558cP9lEWlOu",
        "outputId": "823eca2f-31fc-4a97-9ac5-b87acf06f2c1"
      },
      "source": [
        "food=input('먹고 싶은 음식을 입력하세요.>>')\r\n",
        "print('당신이 입력한 먹고 싶은 음식은', food)"
      ],
      "execution_count": null,
      "outputs": [
        {
          "output_type": "stream",
          "text": [
            "먹고 싶은 음식을 입력하세요.>>회\n",
            "당신이 입력한 먹고 싶은 음식은 회\n"
          ],
          "name": "stdout"
        }
      ]
    },
    {
      "cell_type": "code",
      "metadata": {
        "colab": {
          "base_uri": "https://localhost:8080/"
        },
        "id": "x84gn38AcgnO",
        "outputId": "77ddccca-19cb-46eb-bece-8271f251969b"
      },
      "source": [
        "if food=='우동' :\r\n",
        "  print('우산을 들고 간다.')\r\n",
        "  print('돈 들고 간다.')\r\n",
        "  print('우동집으로 간다.')\r\n",
        "elif food=='자장면' :\r\n",
        "  print('중국집으로 간다.')\r\n",
        "elif food=='라면' :\r\n",
        "  print('분식집으로 간다.')\r\n",
        "else : #else 뒤에는 절대 조건이 붙으면 안됨\r\n",
        "  print('집에서 먹는다.')"
      ],
      "execution_count": null,
      "outputs": [
        {
          "output_type": "stream",
          "text": [
            "집에서 먹는다.\n"
          ],
          "name": "stdout"
        }
      ]
    },
    {
      "cell_type": "code",
      "metadata": {
        "colab": {
          "base_uri": "https://localhost:8080/"
        },
        "id": "B_AWodQ2dYdI",
        "outputId": "6cd74083-c3e3-4b00-f839-c90a21dcc75a"
      },
      "source": [
        "price=int(input('커피값'))\r\n",
        "num=int(input('인원'))\r\n",
        "sum=price*num"
      ],
      "execution_count": null,
      "outputs": [
        {
          "output_type": "stream",
          "text": [
            "커피값5000\n",
            "인원3\n"
          ],
          "name": "stdout"
        }
      ]
    },
    {
      "cell_type": "code",
      "metadata": {
        "colab": {
          "base_uri": "https://localhost:8080/"
        },
        "id": "OXzDyDrNd0hK",
        "outputId": "5532dc79-7afd-4c08-9686-7f73ae38f8a5"
      },
      "source": [
        "if sum>10000 :\r\n",
        "  print(sum-2000)\r\n",
        "else :\r\n",
        "  print(sum)"
      ],
      "execution_count": null,
      "outputs": [
        {
          "output_type": "stream",
          "text": [
            "13000\n"
          ],
          "name": "stdout"
        }
      ]
    },
    {
      "cell_type": "code",
      "metadata": {
        "colab": {
          "base_uri": "https://localhost:8080/"
        },
        "id": "gAsu8MMWeJ-o",
        "outputId": "bb74e92e-553c-4bfc-8de5-18f2bec79997"
      },
      "source": [
        "start = 0\r\n",
        "while start < 10 : #True, 조건식\r\n",
        "  print(start,'>내가 반복')\r\n",
        "  start = start+1 #증감식"
      ],
      "execution_count": null,
      "outputs": [
        {
          "output_type": "stream",
          "text": [
            "0 >내가 반복\n",
            "1 >내가 반복\n",
            "2 >내가 반복\n",
            "3 >내가 반복\n",
            "4 >내가 반복\n",
            "5 >내가 반복\n",
            "6 >내가 반복\n",
            "7 >내가 반복\n",
            "8 >내가 반복\n",
            "9 >내가 반복\n"
          ],
          "name": "stdout"
        }
      ]
    },
    {
      "cell_type": "code",
      "metadata": {
        "colab": {
          "base_uri": "https://localhost:8080/"
        },
        "id": "8XlAac6Kfcc9",
        "outputId": "2171e91e-06fc-4035-aa86-913fa61b9cc0"
      },
      "source": [
        "for x in range(0,10) : #0~9까지의 범위(10개)를 range, 기본값이 1씩 증가\r\n",
        "  #range(0,10,2) 0~9까지의 범위(10개)를 2씩증가\r\n",
        "  print(x,'나도 반복')"
      ],
      "execution_count": null,
      "outputs": [
        {
          "output_type": "stream",
          "text": [
            "0 나도 반복\n",
            "1 나도 반복\n",
            "2 나도 반복\n",
            "3 나도 반복\n",
            "4 나도 반복\n",
            "5 나도 반복\n",
            "6 나도 반복\n",
            "7 나도 반복\n",
            "8 나도 반복\n",
            "9 나도 반복\n"
          ],
          "name": "stdout"
        }
      ]
    },
    {
      "cell_type": "code",
      "metadata": {
        "colab": {
          "base_uri": "https://localhost:8080/"
        },
        "id": "5jd7_cFwjbOx",
        "outputId": "830d8f43-c6d3-4c6e-ef5e-f81e9bbc36ef"
      },
      "source": [
        "hour=int(input('현재 시각'))\r\n",
        "print(hour,'시')\r\n",
        "if hour<11 :\r\n",
        "  print('굿모닝')\r\n",
        "elif hour<15 :\r\n",
        "  print('굿애프터눈') #breack, cpu 처리 여기서 끝!\r\n",
        "elif hour<20 :\r\n",
        "  print('굿이브닝')\r\n",
        "else :\r\n",
        "  print('굿나잇')"
      ],
      "execution_count": null,
      "outputs": [
        {
          "output_type": "stream",
          "text": [
            "현재 시각17\n",
            "17 시\n",
            "굿이브닝\n"
          ],
          "name": "stdout"
        }
      ]
    },
    {
      "cell_type": "code",
      "metadata": {
        "colab": {
          "base_uri": "https://localhost:8080/"
        },
        "id": "MpV1myQUlfBQ",
        "outputId": "0ece3818-ef88-4045-e4dc-c877702007bd"
      },
      "source": [
        "month=int(input('이번달은'))\r\n",
        "print(month,'월')\r\n",
        "if 3<=month<=5 :\r\n",
        "  print('봄')\r\n",
        "elif 6<=month<=8 :\r\n",
        "  print('여름')\r\n",
        "elif 9<=month<=11 :\r\n",
        "  print('가을')\r\n",
        "else :\r\n",
        "  print('겨울')"
      ],
      "execution_count": null,
      "outputs": [
        {
          "output_type": "stream",
          "text": [
            "이번달은1\n",
            "1 월\n",
            "겨울\n"
          ],
          "name": "stdout"
        }
      ]
    },
    {
      "cell_type": "code",
      "metadata": {
        "id": "8dO1T-eAmfPf"
      },
      "source": [
        ""
      ],
      "execution_count": null,
      "outputs": []
    }
  ]
}