{
  "nbformat": 4,
  "nbformat_minor": 0,
  "metadata": {
    "colab": {
      "name": "파이썬 입문.ipynb",
      "provenance": [],
      "collapsed_sections": [],
      "authorship_tag": "ABX9TyMonRL0gtD7KvEE3CNFciJM",
      "include_colab_link": true
    },
    "kernelspec": {
      "name": "python3",
      "display_name": "Python 3"
    }
  },
  "cells": [
    {
      "cell_type": "markdown",
      "metadata": {
        "id": "view-in-github",
        "colab_type": "text"
      },
      "source": [
        "<a href=\"https://colab.research.google.com/github/jeong-on/python_start/blob/main/%ED%8C%8C%EC%9D%B4%EC%8D%AC_%EC%9E%85%EB%AC%B8.ipynb\" target=\"_parent\"><img src=\"https://colab.research.google.com/assets/colab-badge.svg\" alt=\"Open In Colab\"/></a>"
      ]
    },
    {
      "cell_type": "code",
      "metadata": {
        "colab": {
          "base_uri": "https://localhost:8080/"
        },
        "id": "rC40NmXmE94L",
        "outputId": "7cdcb7ed-eb34-4c9b-98bf-3a503ca99653"
      },
      "source": [
        "print('hello'); \r\n"
      ],
      "execution_count": null,
      "outputs": [
        {
          "output_type": "stream",
          "text": [
            "hello\n"
          ],
          "name": "stdout"
        }
      ]
    },
    {
      "cell_type": "code",
      "metadata": {
        "colab": {
          "base_uri": "https://localhost:8080/"
        },
        "id": "HGLLllD4HBOn",
        "outputId": "ee71ac8a-4406-41e9-ce47-034db1bf2849"
      },
      "source": [
        "print('안녕하세요.', end=' ')\r\n",
        "print('저는 홍길동입니다.')"
      ],
      "execution_count": null,
      "outputs": [
        {
          "output_type": "stream",
          "text": [
            "안녕하세요. 저는 홍길동입니다.\n"
          ],
          "name": "stdout"
        }
      ]
    },
    {
      "cell_type": "code",
      "metadata": {
        "id": "_6ukLtSJHIoC"
      },
      "source": [
        "# 컨트롤 + / : 주석넣는 부분 (#), comment,주석\r\n",
        "# 입력 : 데이터를 가지고 와야함\r\n",
        "# 처리 : 적절한 처리\r\n",
        "# 출력 처리한 결과를 내보내는 일 (모니터, 파일, db저장, 네트워크 전송)"
      ],
      "execution_count": null,
      "outputs": []
    },
    {
      "cell_type": "code",
      "metadata": {
        "colab": {
          "base_uri": "https://localhost:8080/"
        },
        "id": "pLT55d-CJWuc",
        "outputId": "ddb889c5-8dd6-48e2-f845-c88a6f9a1ead"
      },
      "source": [
        "name = input('이름을 입력하세요 >> ') # 간단한 처리(기호를 씀) : 연산=>연산자\r\n",
        "# = : 대입 연산자"
      ],
      "execution_count": null,
      "outputs": [
        {
          "output_type": "stream",
          "text": [
            "이름을 입력하세요 >> 홍길동\n"
          ],
          "name": "stdout"
        }
      ]
    },
    {
      "cell_type": "code",
      "metadata": {
        "colab": {
          "base_uri": "https://localhost:8080/"
        },
        "id": "IH71FbDQJhD7",
        "outputId": "8ae01c05-df9d-470d-915b-c6041ba544f1"
      },
      "source": [
        "print(name)"
      ],
      "execution_count": null,
      "outputs": [
        {
          "output_type": "stream",
          "text": [
            "홍길동\n"
          ],
          "name": "stdout"
        }
      ]
    },
    {
      "cell_type": "code",
      "metadata": {
        "colab": {
          "base_uri": "https://localhost:8080/"
        },
        "id": "IlMZMxb-LEZz",
        "outputId": "6569b21f-ae43-4fe8-d2c7-34d8dc862a21"
      },
      "source": [
        "add=input('주소를 입력하세요 >>')\r\n",
        "name=input('이름을 입력하세요 >>')\r\n",
        "age=input('나이를 입력하세요 >>')"
      ],
      "execution_count": null,
      "outputs": [
        {
          "output_type": "stream",
          "text": [
            "주소를 입력하세요 >>성남\n",
            "이름을 입력하세요 >>윤정온\n",
            "나이를 입력하세요 >>32\n"
          ],
          "name": "stdout"
        }
      ]
    },
    {
      "cell_type": "code",
      "metadata": {
        "colab": {
          "base_uri": "https://localhost:8080/"
        },
        "id": "oi8C8As4L94a",
        "outputId": "857d0c95-5988-48ab-a23c-36eb3b1a084e"
      },
      "source": [
        "print(add)\r\n",
        "print(name)\r\n",
        "print(age)"
      ],
      "execution_count": null,
      "outputs": [
        {
          "output_type": "stream",
          "text": [
            "성남\n",
            "윤정온\n",
            "32\n"
          ],
          "name": "stdout"
        }
      ]
    },
    {
      "cell_type": "code",
      "metadata": {
        "id": "nOyMPNm7MOQi"
      },
      "source": [
        "location = '신촌'"
      ],
      "execution_count": null,
      "outputs": []
    },
    {
      "cell_type": "code",
      "metadata": {
        "id": "lxBqypzySV74"
      },
      "source": [
        "number = 2"
      ],
      "execution_count": null,
      "outputs": []
    },
    {
      "cell_type": "code",
      "metadata": {
        "id": "JZRNbf-FSX-u"
      },
      "source": [
        "height = 195.5"
      ],
      "execution_count": null,
      "outputs": []
    },
    {
      "cell_type": "code",
      "metadata": {
        "id": "rTECaeC8S7gu"
      },
      "source": [
        "food_lunch = True"
      ],
      "execution_count": null,
      "outputs": []
    },
    {
      "cell_type": "code",
      "metadata": {
        "colab": {
          "base_uri": "https://localhost:8080/"
        },
        "id": "EVKSQureS89m",
        "outputId": "6d2342ee-60db-4c90-d291-74117fc99807"
      },
      "source": [
        "age2=input ('나이 입력 >>') #100 \r\n",
        "# 컴퓨터에서 입력한 데이터는 타입을 무조건 스트링으로 인식한다.\r\n",
        "# 스트링을 정수로 바꿔쓰는(강제 캐스팅->캐스팅은 cpu가 함) 결정은 프로그래머가 한다.\r\n",
        "print(int(age2) + 1)"
      ],
      "execution_count": null,
      "outputs": [
        {
          "output_type": "stream",
          "text": [
            "나이 입력 >>100\n",
            "101\n"
          ],
          "name": "stdout"
        }
      ]
    },
    {
      "cell_type": "code",
      "metadata": {
        "colab": {
          "base_uri": "https://localhost:8080/"
        },
        "id": "5PCVEPxUUqaN",
        "outputId": "1a6bc4db-d1ff-4e5e-a8ff-984153da96f7"
      },
      "source": [
        "# 두 수를 입력을 받아서 사칙연산을 해보세요.\r\n",
        "num=input('첫번째 수 >>')\r\n",
        "num2=input('두번째 수 >>')\r\n",
        "print(int(num)+int(num2))"
      ],
      "execution_count": null,
      "outputs": [
        {
          "output_type": "stream",
          "text": [
            "첫번째 수 >>10\n",
            "두번째 수 >>20\n",
            "30\n"
          ],
          "name": "stdout"
        }
      ]
    },
    {
      "cell_type": "code",
      "metadata": {
        "colab": {
          "base_uri": "https://localhost:8080/"
        },
        "id": "aBqpcBQxX1LR",
        "outputId": "63151643-963c-4e12-c90e-7e56241979b9"
      },
      "source": [
        "n1 = int(input('숫자 1 >>'))\r\n",
        "n2 = int(input('숫자 2 >>'))"
      ],
      "execution_count": null,
      "outputs": [
        {
          "output_type": "stream",
          "text": [
            "숫자 1 >>3\n",
            "숫자 2 >>7\n"
          ],
          "name": "stdout"
        }
      ]
    },
    {
      "cell_type": "code",
      "metadata": {
        "colab": {
          "base_uri": "https://localhost:8080/"
        },
        "id": "cdzMxSh0X_fk",
        "outputId": "d6754060-0221-46ca-bac0-3476c7a6c990"
      },
      "source": [
        "print('두 수의 합은', n1+n2)\r\n",
        "print('두 수의 차는', n1-n2)\r\n",
        "print('두 수의 곱은', n1*n2) #아스테리크, 에스테리크\r\n",
        "print('두 수의 나눗셈은', n1/n2)\r\n",
        "print('두 수의 나눗셈은', n1//n2)"
      ],
      "execution_count": null,
      "outputs": [
        {
          "output_type": "stream",
          "text": [
            "두 수의 합은 10\n",
            "두 수의 차는 -4\n",
            "두 수의 곱은 21\n",
            "두 수의 나눗셈은 0.42857142857142855\n",
            "두 수의 나눗셈은 0\n"
          ],
          "name": "stdout"
        }
      ]
    },
    {
      "cell_type": "code",
      "metadata": {
        "colab": {
          "base_uri": "https://localhost:8080/"
        },
        "id": "Jie0J7R0YTZb",
        "outputId": "96629836-a1d1-436e-cb39-e00248662257"
      },
      "source": [
        "me = '커피'\r\n",
        "me2 = '우유'\r\n",
        "print (me+me2) #문자열로 결합시켜라(결합 연산자)"
      ],
      "execution_count": null,
      "outputs": [
        {
          "output_type": "stream",
          "text": [
            "커피우유\n"
          ],
          "name": "stdout"
        }
      ]
    },
    {
      "cell_type": "code",
      "metadata": {
        "id": "EO79nucFZZcD"
      },
      "source": [
        "price=1000"
      ],
      "execution_count": null,
      "outputs": []
    },
    {
      "cell_type": "code",
      "metadata": {
        "colab": {
          "base_uri": "https://localhost:8080/"
        },
        "id": "2Zg2XmE0Zna6",
        "outputId": "e6eb6849-2c02-4b33-b362-c64d3264e645"
      },
      "source": [
        "print(me + '가격은 ' + str(price) + '원')"
      ],
      "execution_count": null,
      "outputs": [
        {
          "output_type": "stream",
          "text": [
            "커피가격은 1000원\n"
          ],
          "name": "stdout"
        }
      ]
    },
    {
      "cell_type": "code",
      "metadata": {
        "colab": {
          "base_uri": "https://localhost:8080/"
        },
        "id": "SucrIJNAZusi",
        "outputId": "7d068dfe-9e64-482f-eb9a-26cccde98a87"
      },
      "source": [
        "price = int(input('커피값 :'))\r\n",
        "count = int(input('커피 인원수 :'))\r\n",
        "sum = price*count # 변수(저장공간, 저장공간이름=>변수명)"
      ],
      "execution_count": null,
      "outputs": [
        {
          "output_type": "stream",
          "text": [
            "커피값 입력 :5000\n",
            "커피 인원수 :3\n"
          ],
          "name": "stdout"
        }
      ]
    },
    {
      "cell_type": "code",
      "metadata": {
        "colab": {
          "base_uri": "https://localhost:8080/"
        },
        "id": "NPMjcUAghUae",
        "outputId": "2eed9dd5-5667-4fc9-c4e6-7e2575a47d19"
      },
      "source": [
        "if sum>=20000:\r\n",
        "  print('20000원 이상입니다.')\r\n",
        "  print(sum - 2000,'원 결제하세요.')\r\n",
        "else :\r\n",
        "  print('20000원 미만입니다.')\r\n",
        "  print(sum,'원 결제하세요.')"
      ],
      "execution_count": null,
      "outputs": [
        {
          "output_type": "stream",
          "text": [
            "20000원 미만입니다.\n",
            "15000 원 결제하세요.\n"
          ],
          "name": "stdout"
        }
      ]
    },
    {
      "cell_type": "code",
      "metadata": {
        "colab": {
          "base_uri": "https://localhost:8080/"
        },
        "id": "JTtFmfgnix2e",
        "outputId": "19b4f068-47c4-4d1c-f2c9-50ba342ed202"
      },
      "source": [
        "count =int(input('1년 만기 정기 예금을 얼마나 예치하시겠습니까?'))\r\n",
        "print('원금이 ', count,'원이시군요.!')\r\n",
        "print('이자는 ', count/10 ,'원입니다.')\r\n",
        "print('원리합계는' , count+count/10 ,'원입니다.')"
      ],
      "execution_count": null,
      "outputs": [
        {
          "output_type": "stream",
          "text": [
            "1년 만기 정기 예금을 얼마나 예치하시겠습니까?20000\n",
            "원금이  20000 원이시군요.!\n",
            "이자는  2000.0 원입니다.\n",
            "원리합계는 22000.0 원입니다.\n"
          ],
          "name": "stdout"
        }
      ]
    },
    {
      "cell_type": "code",
      "metadata": {
        "colab": {
          "base_uri": "https://localhost:8080/"
        },
        "id": "KXGwbEhmj5dW",
        "outputId": "1edfef05-a6a9-49e3-e099-0e396243c37f"
      },
      "source": [
        "eng =int(input('영어점수 입력:'))\r\n",
        "math =int(input('수학점수 입력:'))\r\n",
        "kor =int(input('국어점수 입력:'))\r\n",
        "print('-------------')\r\n",
        "print('세 과목의 합은 ', eng+math+kor,'점')\r\n",
        "print('세 과목의 평균은 ', (eng+math+kor)/3,'점')"
      ],
      "execution_count": null,
      "outputs": [
        {
          "output_type": "stream",
          "text": [
            "영어점수 입력:76\n",
            "수학점수 입력:80\n",
            "국어점수 입력:60\n",
            "-------------\n",
            "세 과목의 합은  216 점\n",
            "세 과목의 평균은  72.0 점\n"
          ],
          "name": "stdout"
        }
      ]
    },
    {
      "cell_type": "code",
      "metadata": {
        "colab": {
          "base_uri": "https://localhost:8080/"
        },
        "id": "eVC1Pb6alI-U",
        "outputId": "aa1beaa3-7be7-4f15-af81-59cb6c20b8d5"
      },
      "source": [
        "hr=int(input('지금은 몇 시 입니까?'))\r\n",
        "if hr<12:\r\n",
        "  print('점심 전입니다. 맛있게 드세요.!')\r\n",
        "else :\r\n",
        "  print('점심 후입니다.')"
      ],
      "execution_count": null,
      "outputs": [
        {
          "output_type": "stream",
          "text": [
            "지금은 몇 시 입니까?12\n",
            "점심 후입니다.\n"
          ],
          "name": "stdout"
        }
      ]
    },
    {
      "cell_type": "code",
      "metadata": {
        "colab": {
          "base_uri": "https://localhost:8080/"
        },
        "id": "Crfaz-UWlg8E",
        "outputId": "053d505a-a506-447e-906e-fe9ea2134918"
      },
      "source": [
        "a='홍길동'\r\n",
        "b='홍길동'\r\n",
        "a==b"
      ],
      "execution_count": null,
      "outputs": [
        {
          "output_type": "execute_result",
          "data": {
            "text/plain": [
              "True"
            ]
          },
          "metadata": {
            "tags": []
          },
          "execution_count": 58
        }
      ]
    },
    {
      "cell_type": "code",
      "metadata": {
        "colab": {
          "base_uri": "https://localhost:8080/"
        },
        "id": "kHAkrzZ_serH",
        "outputId": "6a230e7a-eb3e-4a23-9ab0-5cbc177d0faa"
      },
      "source": [
        "if a==b : # True일때만!\r\n",
        "  print('동일한 사람')\r\n",
        "else : #False인 모든 상황! 조건이 붙지 않음\r\n",
        "  print('다른 사람')"
      ],
      "execution_count": null,
      "outputs": [
        {
          "output_type": "stream",
          "text": [
            "동일한 사람\n"
          ],
          "name": "stdout"
        }
      ]
    },
    {
      "cell_type": "code",
      "metadata": {
        "colab": {
          "base_uri": "https://localhost:8080/"
        },
        "id": "IlSVMzn3spZz",
        "outputId": "62f77c2a-02a9-410b-ffde-dd9c664047f6"
      },
      "source": [
        "id=str(input('로그인 할 id를 입력 >>'))\r\n",
        "if id==str('root') :\r\n",
        "  print ('로그인 되었습니다.')\r\n",
        "else :\r\n",
        "  print('로그인 되지 않았습니다.')"
      ],
      "execution_count": null,
      "outputs": [
        {
          "output_type": "stream",
          "text": [
            "로그인 할 id를 입력 >>root\n",
            "로그인 되었습니다.\n"
          ],
          "name": "stdout"
        }
      ]
    },
    {
      "cell_type": "code",
      "metadata": {
        "id": "Taz95d0WtSBQ"
      },
      "source": [
        ""
      ],
      "execution_count": null,
      "outputs": []
    },
    {
      "cell_type": "code",
      "metadata": {
        "colab": {
          "base_uri": "https://localhost:8080/"
        },
        "id": "n1sRnfCZtwEc",
        "outputId": "80a5f111-4ba9-4a4a-c291-993a337900a2"
      },
      "source": [
        "sticker_p=int(input('스티커 가격'))\r\n",
        "sticker_n=int(input('스티커 갯수'))\r\n",
        "bookmarcke_p=int(input('책갈피 가격'))\r\n",
        "bookmarcke_n=int(input('책갈피 갯수'))\r\n",
        "sum=((sticker_p*sticker_n)+(bookmarcke_p*bookmarcke_n))\r\n",
        "sum2=sum-sum/10\r\n",
        "\r\n",
        "member=str(input('회원정보 :'))\r\n",
        "if member==str('우수회원') :\r\n",
        "  print(sum2)\r\n",
        "else :\r\n",
        "  print(sum)"
      ],
      "execution_count": null,
      "outputs": [
        {
          "output_type": "stream",
          "text": [
            "스티커 가격1000\n",
            "스티커 갯수3\n",
            "책갈피 가격2500\n",
            "책갈피 갯수4\n",
            "회원정보 :우수회원\n",
            "11700.0\n"
          ],
          "name": "stdout"
        }
      ]
    }
  ]
}